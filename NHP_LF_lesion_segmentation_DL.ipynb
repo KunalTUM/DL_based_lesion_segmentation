{
  "nbformat": 4,
  "nbformat_minor": 0,
  "metadata": {
    "colab": {
      "provenance": [],
      "authorship_tag": "ABX9TyMweEQye1QSPItJQ4FbPMxG",
      "include_colab_link": true
    },
    "kernelspec": {
      "name": "python3",
      "display_name": "Python 3"
    },
    "language_info": {
      "name": "python"
    },
    "gpuClass": "standard",
    "accelerator": "GPU"
  },
  "cells": [
    {
      "cell_type": "markdown",
      "metadata": {
        "id": "view-in-github",
        "colab_type": "text"
      },
      "source": [
        "<a href=\"https://colab.research.google.com/github/KunalTUM/KunalTUM/blob/main/NHP_LF_lesion_segmentation_DL.ipynb\" target=\"_parent\"><img src=\"https://colab.research.google.com/assets/colab-badge.svg\" alt=\"Open In Colab\"/></a>"
      ]
    },
    {
      "cell_type": "markdown",
      "source": [
        "## **U-Net for NHP Lesion Segmentation**"
      ],
      "metadata": {
        "id": "ZmhPecfs2TNO"
      }
    },
    {
      "cell_type": "markdown",
      "source": [
        "# Setup"
      ],
      "metadata": {
        "id": "tz9B863V2fl1"
      }
    },
    {
      "cell_type": "code",
      "execution_count": null,
      "metadata": {
        "id": "yG0ayaZf2LH3"
      },
      "outputs": [],
      "source": [
        "# !pip install patchify\n",
        "import tensorflow as tf\n",
        "from tensorflow import keras\n",
        "from tensorflow.keras import layers\n",
        "import tensorflow_datasets as tfds\n",
        "import matplotlib.pyplot as plt\n",
        "import numpy as np\n",
        "from sklearn.utils import shuffle\n",
        "import random\n",
        "# from patchify import patchify, unpatchify"
      ]
    },
    {
      "cell_type": "markdown",
      "source": [
        "# Data Loading"
      ],
      "metadata": {
        "id": "kuDeiHr321J0"
      }
    },
    {
      "cell_type": "code",
      "source": [
        "from google.colab import drive\n",
        "drive.mount('/content/drive')"
      ],
      "metadata": {
        "colab": {
          "base_uri": "https://localhost:8080/"
        },
        "id": "phH6Y0BE2pFX",
        "outputId": "9f436e73-5e1a-4f0a-da26-9c21b08f0915"
      },
      "execution_count": null,
      "outputs": [
        {
          "output_type": "stream",
          "name": "stdout",
          "text": [
            "Drive already mounted at /content/drive; to attempt to forcibly remount, call drive.mount(\"/content/drive\", force_remount=True).\n"
          ]
        }
      ]
    },
    {
      "cell_type": "code",
      "source": [
        "# Load data from drive\n",
        "# NHP1 - training\n",
        "# NHP2 - testing\n",
        "nhp1 = np.load('/content/drive/MyDrive/Colab Notebooks/NHP_lesion_segmentation_DL/NHP_LF_08078.npy', allow_pickle=True)\n",
        "nhp2 = np.load('/content/drive/MyDrive/Colab Notebooks/NHP_lesion_segmentation_DL/NHP_LF_08112.npy', allow_pickle=True)\n",
        "nhp3 = np.load('/content/drive/MyDrive/Colab Notebooks/NHP_lesion_segmentation_DL/NHP_LF_08671.npy', allow_pickle=True)\n",
        "# fd = np.load('NHP_08112.npy', allow_pickle = True)\n",
        "\n",
        "# print(type(nhp1)) # it shows ndarray but this is a dictionary\n",
        "# x_train = nhp1.item().get('x_train')\n",
        "# print(len(x_train))"
      ],
      "metadata": {
        "id": "Swh8hoh725fl"
      },
      "execution_count": null,
      "outputs": []
    },
    {
      "cell_type": "code",
      "source": [
        "## Functions for data augmentation\n",
        "\n",
        "# Function for making patches and labelling them as 0 or 1 for DL training - class balanced\n",
        "def data_augmentation(slice, slice_mask, number_of_patches, size_of_patches):\n",
        "\n",
        "    x_train_0 = np.zeros((size_of_patches, size_of_patches, int(number_of_patches/2)))\n",
        "    y_train_0 = np.zeros((size_of_patches, size_of_patches, int(number_of_patches/2)))\n",
        "    y_label_0 = int(number_of_patches/2)\n",
        "\n",
        "    x_train_1 = np.zeros((size_of_patches, size_of_patches, int(number_of_patches/2)))\n",
        "    y_train_1 = np.zeros((size_of_patches, size_of_patches, int(number_of_patches/2)))\n",
        "    y_label_1 = int(number_of_patches/2)\n",
        "\n",
        "    l = slice_mask.shape[0]\n",
        "    m = slice_mask.shape[1]\n",
        "\n",
        "    p_l = size_of_patches\n",
        "    p_m = size_of_patches\n",
        "\n",
        "    i = 0\n",
        "    j = 0\n",
        "\n",
        "    if size_of_patches > slice_mask.shape[0]:\n",
        "        print('\\nPatch size is larger than image size. Please enter smaller size.')\n",
        "    elif (number_of_patches % 2) != 0:\n",
        "        print('\\nNumber of patches is an odd number. Please enter Even number!')\n",
        "    else:\n",
        "\n",
        "        while y_label_1 > 0:\n",
        "            c_x = random.randint(0, l - p_l - 1)\n",
        "            c_y = random.randint(0, m - p_m - 1)\n",
        "\n",
        "            x_patch_1 = slice[int(c_x):int(c_x + p_l), int(c_y):int(c_y + p_m)]\n",
        "            y_patch_1 = slice_mask[int(c_x):int(c_x + p_l), int(c_y):int(c_y + p_m)]\n",
        "\n",
        "            if (np.sum(y_patch_1) > 0):\n",
        "                y_label_1 = y_label_1 - 1\n",
        "                x_train_1[:, :, i] = x_patch_1\n",
        "                y_train_1[:, :, i] = y_patch_1\n",
        "                i = i + 1\n",
        "\n",
        "        y_label_1_array = np.ones(int(number_of_patches/2))\n",
        "\n",
        "        while y_label_0 > 0:\n",
        "            c_x = random.randint(0, l - p_l - 1)\n",
        "            c_y = random.randint(0, m - p_m - 1)\n",
        "\n",
        "            x_patch_0 = slice[int(c_x):int(c_x + p_l), int(c_y):int(c_y + p_m)]\n",
        "            y_patch_0 = slice_mask[int(c_x):int(c_x + p_l), int(c_y):int(c_y + p_m)]\n",
        "\n",
        "            if (np.sum(y_patch_0) == 0):\n",
        "                y_label_0 = y_label_0 - 1\n",
        "                x_train_0[:, :, j] = x_patch_0\n",
        "                y_train_0[:, :, j] = y_patch_0\n",
        "                j = j + 1\n",
        "\n",
        "        y_label_0_array = np.zeros(int(number_of_patches/2))\n",
        "\n",
        "        x_train_0 = np.concatenate([x_train_0, x_train_1], axis=2)\n",
        "        y_train_0 = np.concatenate([y_train_0, y_train_1], axis=2)\n",
        "        y_label_0_array = np.concatenate([y_label_0_array, y_label_1_array])\n",
        "\n",
        "        x_train = x_train_0\n",
        "        y_train = y_train_0\n",
        "        y_label = y_label_0_array\n",
        "\n",
        "        x_train = x_train.astype('int')\n",
        "        y_train = y_train.astype('int')\n",
        "        y_label = y_label.astype('int')\n",
        "\n",
        "        x_train = np.swapaxes(x_train, 0, 2)        # swaping axes because shuffle needs all axis=0 to be same. y_label has different axis=0 as compared to x_train and y_train\n",
        "        y_train = np.swapaxes(y_train, 0, 2)\n",
        "        x_train, y_train, y_label = shuffle(x_train, y_train, y_label, random_state=0)\n",
        "\n",
        "    return x_train, y_train, y_label\n",
        "\n",
        "\n",
        "# Function for converting NHP input dictionary into array with patches\n",
        "def convert_input2array(data, number_of_patches, size_of_patches):\n",
        "    # extract x_train and y_train keys from dictionary\n",
        "    x_train = data.item().get('x_train')\n",
        "    y_train = data.item().get('y_train')\n",
        "\n",
        "    # Create patches from first slice to initialize further concatenation\n",
        "    slice_x_init = x_train[0]\n",
        "    slice_y_init = y_train[0]\n",
        "    slice_x_init = 4096 * slice_x_init    # increasing dynamic range here before cutting patches because data is normalized (0,1)\n",
        "    # slice_y_init = 4096 * slice_y_init    # increasing dynamic range here before cutting patches because data is normalized (0,1) - not required for masks\n",
        "    slice_x_init_patch, slice_y_init_patch, slice_y_init_label = data_augmentation(slice_x_init, slice_y_init, number_of_patches, size_of_patches)\n",
        "\n",
        "    # create patches from remaining slices and combine them all together\n",
        "    for i in range(len(x_train)-1):\n",
        "        slice_x = x_train[i+1]\n",
        "        slice_y = y_train[i+1]\n",
        "        slice_x = 4096 * slice_x    # increasing dynamic range here before cutting patches because data is normalized (0,1)\n",
        "        # slice_y = 4096 * slice_y    # increasing dynamic range here before cutting patches because data is normalized (0,1) - not required for masks\n",
        "        print('Slice number being patchified: ', i+1)\n",
        "\n",
        "        slice_x_patch, slice_y_patch, slice_y_label = data_augmentation(slice_x, slice_y, number_of_patches, size_of_patches)\n",
        "\n",
        "        slice_x_init_patch = np.concatenate([slice_x_init_patch, slice_x_patch], axis=0)\n",
        "        slice_y_init_patch = np.concatenate([slice_y_init_patch, slice_y_patch], axis=0)\n",
        "\n",
        "    x_train_final = slice_x_init_patch\n",
        "    y_train_final = slice_y_init_patch\n",
        "\n",
        "    return x_train_final, y_train_final\n"
      ],
      "metadata": {
        "id": "KjX1DxQU31aP"
      },
      "execution_count": null,
      "outputs": []
    },
    {
      "cell_type": "code",
      "source": [
        "# Note:\n",
        "# In case of LF, increase in dynamic range to 4096 is performed before cutting patches because the LF data is between 0 and 1.\n",
        "# If you don't increase the dynamic range before cutting the patches, then it will give black patches because values are being converted to integers in the function and so becomes 0.\n",
        "# Therefore, no need to multiply with 4096 after making patches (which has been done in HF data)."
      ],
      "metadata": {
        "id": "KAqJkblyjb_R"
      },
      "execution_count": null,
      "outputs": []
    },
    {
      "cell_type": "code",
      "source": [
        "patch_number = 5000\n",
        "patch_size = 32\n",
        "\n",
        "# Convert NHP training data into arrays with patches\n",
        "x_train_1, y_train_1 = convert_input2array(nhp1, patch_number, patch_size)\n",
        "\n",
        "print('x train: ', x_train_1.shape)\n",
        "print('y train: ', y_train_1.shape)\n",
        "\n",
        "\n",
        "# Convert NHP training data into arrays with patches\n",
        "x_train_2, y_train_2 = convert_input2array(nhp2, patch_number, patch_size)\n",
        "\n",
        "print('x train: ', x_train_2.shape)\n",
        "print('y train: ', y_train_2.shape)\n",
        "\n",
        "\n",
        "# Concatenate two NHPs\n",
        "x_train_1 = np.concatenate((x_train_1, x_train_2), axis=0)\n",
        "y_train_1 = np.concatenate((y_train_1, y_train_2), axis=0)\n",
        "\n",
        "x_train_final = x_train_1\n",
        "y_train_final = y_train_1\n",
        "print('x train final: ', x_train_final.shape)\n",
        "print('y train final: ', y_train_final.shape)\n",
        "\n",
        "\n",
        "# Convert NHP testing data into arrays with patches\n",
        "x_test_final, y_test_final = convert_input2array(nhp3, patch_number, patch_size)\n",
        "\n",
        "print('x test: ', x_test_final.shape)\n",
        "print('y test: ', y_test_final.shape)"
      ],
      "metadata": {
        "colab": {
          "base_uri": "https://localhost:8080/"
        },
        "id": "Xc7LRnXH36ak",
        "outputId": "5801da69-e7d3-4e93-bded-5e4c3cd4b3af"
      },
      "execution_count": null,
      "outputs": [
        {
          "output_type": "stream",
          "name": "stdout",
          "text": [
            "Slice number being patchified:  1\n",
            "Slice number being patchified:  2\n",
            "Slice number being patchified:  3\n",
            "x train:  (20000, 32, 32)\n",
            "y train:  (20000, 32, 32)\n",
            "x train:  (5000, 32, 32)\n",
            "y train:  (5000, 32, 32)\n",
            "x train final:  (25000, 32, 32)\n",
            "y train final:  (25000, 32, 32)\n",
            "Slice number being patchified:  1\n",
            "Slice number being patchified:  2\n",
            "Slice number being patchified:  3\n",
            "Slice number being patchified:  4\n",
            "Slice number being patchified:  5\n",
            "Slice number being patchified:  6\n",
            "Slice number being patchified:  7\n",
            "Slice number being patchified:  8\n",
            "Slice number being patchified:  9\n",
            "Slice number being patchified:  10\n",
            "x test:  (55000, 32, 32)\n",
            "y test:  (55000, 32, 32)\n"
          ]
        }
      ]
    },
    {
      "cell_type": "code",
      "source": [
        "# # LF simulated data doesn't have label 2. So this cell is not required.\n",
        "\n",
        "# # By mistake there are three labels - 0,1,2 in NHP3. Changing the label 2 to label 1 for NHP3\n",
        "# # before training the model, change the label. Otherwise it will cause problem.\n",
        "# # identify which variable has NHP3 data and then assign that variable here.\n",
        "# print(np.max(y_test_final))\n",
        "# y_test_final[y_test_final == 2] = 1\n",
        "# print(np.max(y_test_final))"
      ],
      "metadata": {
        "id": "TvQYraAzViuF"
      },
      "execution_count": null,
      "outputs": []
    },
    {
      "cell_type": "code",
      "source": [
        "# Plot random sample from training data\n",
        "import random\n",
        "\n",
        "image_number = random.randint(0, x_train_final.shape[0])\n",
        "\n",
        "fig = plt.figure()\n",
        "plt.subplot(1, 2, 1)\n",
        "plt.title('Training Image')\n",
        "plt.imshow(x_train_final[image_number,:,:], cmap=\"gray\")\n",
        "plt.subplot(1, 2, 2)\n",
        "plt.title('Training Mask')\n",
        "plt.imshow(y_train_final[image_number,:,:], cmap=\"gray\")\n",
        "plt.show()\n",
        "\n",
        "print(np.max(x_train_final[image_number,:,:]))\n",
        "print(np.max(y_train_final[image_number,:,:]))\n"
      ],
      "metadata": {
        "colab": {
          "base_uri": "https://localhost:8080/",
          "height": 251
        },
        "id": "_n8rc4hO39qM",
        "outputId": "ff7aec8f-2b82-4f07-b68f-bd8d45268969"
      },
      "execution_count": null,
      "outputs": [
        {
          "output_type": "display_data",
          "data": {
            "text/plain": [
              "<Figure size 432x288 with 2 Axes>"
            ],
            "image/png": "[encoded data removed]"
          },
          "metadata": {
            "needs_background": "light"
          }
        },
        {
          "output_type": "stream",
          "name": "stdout",
          "text": [
            "1419\n",
            "0\n"
          ]
        }
      ]
    },
    {
      "cell_type": "code",
      "source": [
        "# Plot random sample from testing data\n",
        "import random\n",
        "\n",
        "image_number = random.randint(0, x_test_final.shape[0])\n",
        "\n",
        "fig = plt.figure()\n",
        "plt.subplot(1, 2, 1)\n",
        "plt.title('Testing Image')\n",
        "plt.imshow(x_test_final[image_number,:,:], cmap=\"gray\")\n",
        "plt.subplot(1, 2, 2)\n",
        "plt.title('Testing Mask')\n",
        "plt.imshow(y_test_final[image_number,:,:], cmap=\"gray\")\n",
        "plt.show()\n",
        "\n",
        "print(np.max(x_test_final[image_number,:,:]))\n",
        "print(np.max(y_test_final[image_number,:,:]))"
      ],
      "metadata": {
        "colab": {
          "base_uri": "https://localhost:8080/",
          "height": 251
        },
        "id": "LCakkoPY_flL",
        "outputId": "61547263-9383-40cc-ecce-e92ab6e18fd1"
      },
      "execution_count": null,
      "outputs": [
        {
          "output_type": "display_data",
          "data": {
            "text/plain": [
              "<Figure size 432x288 with 2 Axes>"
            ],
            "image/png": "[encoded data removed]"
          },
          "metadata": {
            "needs_background": "light"
          }
        },
        {
          "output_type": "stream",
          "name": "stdout",
          "text": [
            "2528\n",
            "0\n"
          ]
        }
      ]
    },
    {
      "cell_type": "markdown",
      "source": [
        "# U-Net Building blocks"
      ],
      "metadata": {
        "id": "gu5dv2eT_oRz"
      }
    },
    {
      "cell_type": "code",
      "source": [
        "# # Building Unet by dividing encoder and decoder into blocks\n",
        "\n",
        "# from keras.models import Model\n",
        "# from keras.layers import Input, Conv2D, MaxPooling2D, UpSampling2D, concatenate, Conv2DTranspose, BatchNormalization, Dropout, Lambda\n",
        "# from keras.optimizers import Adam\n",
        "# from keras.layers import Activation, MaxPool2D, Concatenate\n",
        "\n",
        "\n",
        "# def conv_block(input, num_filters):\n",
        "#     x = Conv2D(num_filters, 3, padding=\"same\")(input)\n",
        "#     x = BatchNormalization()(x)   #Not in the original network.\n",
        "#     x = Activation(\"relu\")(x)\n",
        "\n",
        "#     x = Conv2D(num_filters, 3, padding=\"same\")(x)\n",
        "#     x = BatchNormalization()(x)  #Not in the original network\n",
        "#     x = Activation(\"relu\")(x)\n",
        "\n",
        "#     return x\n",
        "\n",
        "# #Encoder block: Conv block followed by maxpooling\n",
        "\n",
        "\n",
        "# def encoder_block(input, num_filters):\n",
        "#     x = conv_block(input, num_filters)\n",
        "#     p = MaxPool2D((2, 2))(x)\n",
        "#     return x, p\n",
        "\n",
        "# #Decoder block\n",
        "# #skip features gets input from encoder for concatenation\n",
        "\n",
        "# def decoder_block(input, skip_features, num_filters):\n",
        "#     x = Conv2DTranspose(num_filters, (2, 2), strides=2, padding=\"same\")(input)\n",
        "#     x = Concatenate()([x, skip_features])\n",
        "#     x = conv_block(x, num_filters)\n",
        "#     return x\n",
        "\n",
        "# #Build Unet using the blocks\n",
        "# def build_unet(input_shape, n_classes):\n",
        "#     inputs = Input(input_shape)\n",
        "\n",
        "#     s1, p1 = encoder_block(inputs, 64)\n",
        "#     s2, p2 = encoder_block(p1, 128)\n",
        "#     s3, p3 = encoder_block(p2, 256)\n",
        "#     s4, p4 = encoder_block(p3, 512)\n",
        "\n",
        "#     b1 = conv_block(p4, 1024) #Bridge\n",
        "\n",
        "#     d1 = decoder_block(b1, s4, 512)\n",
        "#     d2 = decoder_block(d1, s3, 256)\n",
        "#     d3 = decoder_block(d2, s2, 128)\n",
        "#     d4 = decoder_block(d3, s1, 64)\n",
        "\n",
        "#     if n_classes == 1:  #Binary\n",
        "#       activation = 'sigmoid'\n",
        "#     else:\n",
        "#       activation = 'softmax'\n",
        "\n",
        "#     outputs = Conv2D(n_classes, 1, padding=\"same\", activation=activation)(d4)  #Change the activation based on n_classes\n",
        "#     print(activation)\n",
        "\n",
        "#     model = Model(inputs, outputs, name=\"U-Net\")\n",
        "#     return model"
      ],
      "metadata": {
        "id": "gSc2iHOK_iyj"
      },
      "execution_count": null,
      "outputs": []
    },
    {
      "cell_type": "markdown",
      "source": [
        "# Build the U-Net Model"
      ],
      "metadata": {
        "id": "N4a7iUB__0wD"
      }
    },
    {
      "cell_type": "code",
      "source": [
        "# IMG_HEIGHT = x_train_final.shape[1]\n",
        "# IMG_WIDTH  = x_train_final.shape[2]\n",
        "# IMG_CHANNELS = 1  # because its grey scale\n",
        "\n",
        "# input_shape = (IMG_HEIGHT, IMG_WIDTH, IMG_CHANNELS)\n",
        "# print(input_shape)"
      ],
      "metadata": {
        "id": "l4Y70ORJ_zq8"
      },
      "execution_count": null,
      "outputs": []
    },
    {
      "cell_type": "code",
      "source": [
        "# model = build_unet(input_shape, n_classes=1)\n",
        "# model.compile(optimizer=Adam(learning_rate = 1e-3), loss='binary_crossentropy', metrics=['accuracy'])\n",
        "# model.summary()"
      ],
      "metadata": {
        "id": "WyAIkZgs_4V0"
      },
      "execution_count": null,
      "outputs": []
    },
    {
      "cell_type": "markdown",
      "source": [
        "# Compile and Train U-Net"
      ],
      "metadata": {
        "id": "eRcbuevkABtU"
      }
    },
    {
      "cell_type": "code",
      "source": [
        "# history = model.fit(x_train_final, y_train_final,\n",
        "#                     batch_size = 16,\n",
        "#                     verbose=1,\n",
        "#                     epochs=25,\n",
        "#                     validation_data=(x_test_final, y_test_final),\n",
        "#                     shuffle=False)"
      ],
      "metadata": {
        "id": "cPBOhKUgAA1s"
      },
      "execution_count": null,
      "outputs": []
    },
    {
      "cell_type": "code",
      "source": [
        "# #Save the model for future use\n",
        "# model.save('/content/drive/MyDrive/Colab Notebooks/NHP_lesion_segmentation_DL/saved_models/LF_NHP_lesion_segmentation_Train_2_3_Test_1.hdf5')"
      ],
      "metadata": {
        "id": "26cUN1-4_6jL"
      },
      "execution_count": null,
      "outputs": []
    },
    {
      "cell_type": "markdown",
      "source": [
        "# Learning curve from model history"
      ],
      "metadata": {
        "id": "ocWAN7saAL0r"
      }
    },
    {
      "cell_type": "code",
      "source": [
        "# #plot the training and validation accuracy and loss at each epoch\n",
        "# loss = history.history['loss']\n",
        "# val_loss = history.history['val_loss']\n",
        "# epochs = range(1, len(loss) + 1)\n",
        "# plt.plot(epochs, loss, 'y', label='Training loss')\n",
        "# plt.plot(epochs, val_loss, 'r', label='Validation loss')\n",
        "# plt.title('Training and validation loss')\n",
        "# plt.xlabel('Epochs')\n",
        "# plt.ylabel('Loss')\n",
        "# plt.legend()\n",
        "# images_dir = '/content/drive/MyDrive/Colab Notebooks/NHP_lesion_segmentation_DL/loss_curves'\n",
        "# plt.savefig(f\"{images_dir}/LF_loss_Train_2_3_Test_1.png\")\n",
        "# plt.show()\n",
        "\n",
        "\n",
        "\n",
        "# acc = history.history['accuracy']\n",
        "# val_acc = history.history['val_accuracy']\n",
        "# plt.plot(epochs, acc, 'y', label='Training acc')\n",
        "# plt.plot(epochs, val_acc, 'r', label='Validation acc')\n",
        "# plt.title('Training and validation accuracy')\n",
        "# plt.xlabel('Epochs')\n",
        "# plt.ylabel('Accuracy')\n",
        "# plt.legend()\n",
        "# images_dir = '/content/drive/MyDrive/Colab Notebooks/NHP_lesion_segmentation_DL/accuracy_curves'\n",
        "# plt.savefig(f\"{images_dir}/LF_accuracy_Train_2_3_Test_1.png\")\n",
        "# plt.show()\n"
      ],
      "metadata": {
        "id": "iG0s7RfvAH1k"
      },
      "execution_count": null,
      "outputs": []
    },
    {
      "cell_type": "markdown",
      "source": [
        "# Predictions with U-Net model"
      ],
      "metadata": {
        "id": "DIT3KmbuAUpW"
      }
    },
    {
      "cell_type": "code",
      "source": [
        "#Load previously saved model\n",
        "from keras.models import load_model\n",
        "model = load_model(\"/content/drive/MyDrive/Colab Notebooks/NHP_lesion_segmentation_DL/saved_models/LF_NHP_lesion_segmentation_Train_1_2_Test_3.hdf5\", compile=False)"
      ],
      "metadata": {
        "id": "ExVLUyFwAPXL"
      },
      "execution_count": null,
      "outputs": []
    },
    {
      "cell_type": "code",
      "source": [
        "#IOU\n",
        "y_pred = model.predict(x_test_final)\n",
        "y_pred_thresholded = y_pred > 0.5"
      ],
      "metadata": {
        "id": "ySGnUc1wAZy3",
        "colab": {
          "base_uri": "https://localhost:8080/"
        },
        "outputId": "e5a84e94-a217-4804-9994-edf102faaef8"
      },
      "execution_count": null,
      "outputs": [
        {
          "output_type": "stream",
          "name": "stdout",
          "text": [
            "1719/1719 [==============================] - 30s 17ms/step\n"
          ]
        }
      ]
    },
    {
      "cell_type": "code",
      "source": [
        "from tensorflow.keras.metrics import MeanIoU\n",
        "n_classes = 2\n",
        "IOU_keras = MeanIoU(num_classes = n_classes)\n",
        "IOU_keras.update_state(y_pred_thresholded, y_test_final)\n",
        "print(\"Mean IoU =\", IOU_keras.result().numpy())"
      ],
      "metadata": {
        "id": "OnuALaQsAZrL",
        "colab": {
          "base_uri": "https://localhost:8080/"
        },
        "outputId": "429a23e6-46ad-4862-dfff-6dfe4f7c0cd1"
      },
      "execution_count": null,
      "outputs": [
        {
          "output_type": "stream",
          "name": "stdout",
          "text": [
            "Mean IoU = 0.59663475\n"
          ]
        }
      ]
    },
    {
      "cell_type": "code",
      "source": [
        "# Predictions on Training data\n",
        "\n",
        "threshold = 0.5\n",
        "test_img_number = random.randint(0, len(x_train_final)-1)\n",
        "test_img        = x_train_final[test_img_number]\n",
        "ground_truth    = y_train_final[test_img_number]\n",
        "\n",
        "test_img_input = np.expand_dims(test_img, 0)    # adding an extra dimension to the vector\n",
        "print(test_img_input.shape)                     # doing it because model.predict requires extra dimension\n",
        "\n",
        "prediction = (model.predict(test_img_input)[0,:,:,0] > 0.5).astype(np.uint8)\n",
        "print(prediction.shape)\n",
        "\n",
        "plt.figure(figsize=(16, 8))\n",
        "plt.subplot(231)\n",
        "plt.title('Training Image')\n",
        "plt.imshow(test_img, cmap='gray')\n",
        "plt.subplot(232)\n",
        "plt.title('Training Mask')\n",
        "plt.imshow(ground_truth, cmap='gray')\n",
        "plt.subplot(233)\n",
        "plt.title('Prediction on train image')\n",
        "plt.imshow(prediction, cmap='gray')\n",
        "\n",
        "plt.show()"
      ],
      "metadata": {
        "id": "0foAxBgTAZf-",
        "colab": {
          "base_uri": "https://localhost:8080/",
          "height": 314
        },
        "outputId": "45b637a9-8e1e-4b95-85ad-0af30a0d650c"
      },
      "execution_count": null,
      "outputs": [
        {
          "output_type": "stream",
          "name": "stdout",
          "text": [
            "(1, 32, 32)\n",
            "1/1 [==============================] - 0s 24ms/step\n",
            "(32, 32)\n"
          ]
        },
        {
          "output_type": "display_data",
          "data": {
            "text/plain": [
              "<Figure size 1152x576 with 3 Axes>"
            ],
            "image/png": "[encoded data removed]"
          },
          "metadata": {
            "needs_background": "light"
          }
        }
      ]
    },
    {
      "cell_type": "code",
      "source": [
        "# Predictions on Testing data\n",
        "\n",
        "threshold = 0.5\n",
        "# test_img_number = random.randint(0, len(x_test_final)-1)\n",
        "test_img_number = random.randint(50000, 54999)\n",
        "test_img        = x_test_final[test_img_number]\n",
        "ground_truth    = y_test_final[test_img_number]\n",
        "print('test_img.shape: ', test_img.shape)\n",
        "\n",
        "test_img_input = np.expand_dims(test_img, 0)    # adding an extra dimension to the vector\n",
        "print(test_img_input.shape)                     # doing it because model.predict requires extra dimension\n",
        "\n",
        "prediction = (model.predict(test_img_input)[0,:,:,0] > 0.5).astype(np.uint8)\n",
        "print(prediction.shape)\n",
        "\n",
        "plt.figure(figsize=(16, 8))\n",
        "plt.subplot(231)\n",
        "plt.title('Testing Image')\n",
        "plt.imshow(test_img, cmap='gray')\n",
        "plt.subplot(232)\n",
        "plt.title('Testing Mask')\n",
        "plt.imshow(ground_truth, cmap='gray')\n",
        "plt.subplot(233)\n",
        "plt.title('Prediction on test image')\n",
        "plt.imshow(prediction, cmap='gray')\n",
        "\n",
        "plt.show()\n",
        "\n",
        "\n",
        "# multiplication with original image\n",
        "tissue = test_img * prediction\n",
        "fig = plt.figure()\n",
        "plt.imshow(tissue, cmap=\"gray\")\n",
        "plt.show()\n",
        "\n",
        "\n",
        "# Saving the prediction\n",
        "np.save(\"/content/drive/MyDrive/Colab Notebooks/NHP_lesion_segmentation_DL/Predictions/Low_Field/NHP3/x_TP11.npy\", test_img)\n",
        "np.save(\"/content/drive/MyDrive/Colab Notebooks/NHP_lesion_segmentation_DL/Predictions/Low_Field/NHP3/y_TP11.npy\", prediction)\n",
        "np.save(\"/content/drive/MyDrive/Colab Notebooks/NHP_lesion_segmentation_DL/Predictions/Low_Field/NHP3/y_tissue_TP11.npy\", tissue)"
      ],
      "metadata": {
        "id": "5aGZNXKMAnzd",
        "colab": {
          "base_uri": "https://localhost:8080/",
          "height": 580
        },
        "outputId": "06094546-33ed-41c2-dd62-a1a141ad2913"
      },
      "execution_count": null,
      "outputs": [
        {
          "output_type": "stream",
          "name": "stdout",
          "text": [
            "test_img.shape:  (32, 32)\n",
            "(1, 32, 32)\n",
            "1/1 [==============================] - 0s 22ms/step\n",
            "(32, 32)\n"
          ]
        },
        {
          "output_type": "display_data",
          "data": {
            "text/plain": [
              "<Figure size 1152x576 with 3 Axes>"
            ],
            "image/png": "[encoded data removed]"
          },
          "metadata": {
            "needs_background": "light"
          }
        },
        {
          "output_type": "display_data",
          "data": {
            "text/plain": [
              "<Figure size 432x288 with 1 Axes>"
            ],
            "image/png": "[encoded data removed]"
          },
          "metadata": {
            "needs_background": "light"
          }
        }
      ]
    },
    {
      "cell_type": "code",
      "source": [
        "# # Predictions on complete image\n",
        "\n",
        "# # Extract slice from NHP\n",
        "# test_nhp      = nhp1\n",
        "# slice_number  = 3\n",
        "\n",
        "# x_test_all_slices = test_nhp.item().get('x_train')\n",
        "# y_test_all_slices = test_nhp.item().get('y_train')\n",
        "# test_img          = x_test_all_slices[slice_number]\n",
        "# ground_truth      = y_test_all_slices[slice_number]\n",
        "\n",
        "# # Patchify input\n",
        "# IMG_HEIGHT                = x_train_final.shape[1]\n",
        "# IMG_WIDTH                 = x_train_final.shape[2]\n",
        "# step                      = IMG_WIDTH  # same as image width because we don't want overlapping\n",
        "# patch_height, patch_width = IMG_HEIGHT, IMG_WIDTH\n",
        "# patch_shape               = (patch_height, patch_width)\n",
        "# patches                   = patchify(test_img, patch_shape, step=step)\n",
        "# print(patches.shape)\n",
        "\n",
        "# # Predict model on each patch\n",
        "# output_patches = np.empty(patches.shape).astype(np.uint8)\n",
        "# for i in range(patches.shape[0]):\n",
        "#     for j in range(patches.shape[1]):\n",
        "#         patch = patches[i, j, :, :]\n",
        "#         test_img_input = np.expand_dims(patch, 0)\n",
        "#         prediction = (model.predict(test_img_input)[0,:,:,0] > 0.5).astype(np.uint8)\n",
        "#         # Viewing single slice\n",
        "#         fig = plt.figure()\n",
        "#         plt.imshow(prediction, cmap=\"gray\")\n",
        "#         plt.show()\n",
        "#         output_patches[i, j] = prediction\n",
        "\n",
        "# # Unpatchify output\n",
        "# output_height     = test_img.shape[0] -(test_img.shape[0] - patch_height) % step\n",
        "# output_width      = test_img.shape[1] -(test_img.shape[1] - patch_width) % step\n",
        "# output_shape      = (output_height, output_width)\n",
        "# output_prediction = unpatchify(output_patches, output_shape)\n",
        "\n",
        "# # Plotting\n",
        "# plt.figure(figsize=(16, 8))\n",
        "# plt.subplot(231)\n",
        "# plt.title('Testing Image')\n",
        "# plt.imshow(test_img, cmap='gray')\n",
        "# plt.subplot(232)\n",
        "# plt.title('Testing Mask - Ground Truth')\n",
        "# plt.imshow(ground_truth, cmap='gray')\n",
        "# plt.subplot(233)\n",
        "# plt.title('Prediction on test image')\n",
        "# plt.imshow(output_prediction, cmap='gray')\n",
        "\n",
        "# plt.show()"
      ],
      "metadata": {
        "id": "1aER-pyaJU9j"
      },
      "execution_count": null,
      "outputs": []
    },
    {
      "cell_type": "code",
      "source": [],
      "metadata": {
        "id": "iCwN8mccksCc"
      },
      "execution_count": null,
      "outputs": []
    }
  ]
}